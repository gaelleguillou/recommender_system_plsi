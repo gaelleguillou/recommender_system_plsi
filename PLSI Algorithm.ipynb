{
 "cells": [
  {
   "cell_type": "markdown",
   "metadata": {},
   "source": [
    "# Implementation of PLSI algorithm using Spark "
   ]
  },
  {
   "cell_type": "code",
   "execution_count": 1,
   "metadata": {},
   "outputs": [],
   "source": [
    "import pandas as pd\n",
    "import time\n",
    "import numpy as np\n",
    "import matplotlib.pyplot as plt\n",
    "import findspark\n",
    "findspark.init(\"spark-2.2.3-bin-hadoop2.6\")\n",
    "import pyspark\n",
    "from numpy import random\n"
   ]
  },
  {
   "cell_type": "code",
   "execution_count": 2,
   "metadata": {},
   "outputs": [],
   "source": [
    "from pyspark import sql"
   ]
  },
  {
   "cell_type": "markdown",
   "metadata": {},
   "source": [
    "## 1. Prepare the environment"
   ]
  },
  {
   "cell_type": "markdown",
   "metadata": {},
   "source": [
    "### Import the data"
   ]
  },
  {
   "cell_type": "markdown",
   "metadata": {},
   "source": [
    "We will implement the PLSI algorithm on the Movielens dataset. To simplify our task, we will start by implementing the PLSI algorithm on a reduced version of the Movielens dataset (\"ratings_short\"), which contains 100 836 observations. "
   ]
  },
  {
   "cell_type": "code",
   "execution_count": 3,
   "metadata": {},
   "outputs": [
    {
     "data": {
      "text/html": [
       "<div>\n",
       "<style scoped>\n",
       "    .dataframe tbody tr th:only-of-type {\n",
       "        vertical-align: middle;\n",
       "    }\n",
       "\n",
       "    .dataframe tbody tr th {\n",
       "        vertical-align: top;\n",
       "    }\n",
       "\n",
       "    .dataframe thead th {\n",
       "        text-align: right;\n",
       "    }\n",
       "</style>\n",
       "<table border=\"1\" class=\"dataframe\">\n",
       "  <thead>\n",
       "    <tr style=\"text-align: right;\">\n",
       "      <th></th>\n",
       "      <th>user_id</th>\n",
       "      <th>user_username</th>\n",
       "      <th>movie_id</th>\n",
       "      <th>rating</th>\n",
       "    </tr>\n",
       "  </thead>\n",
       "  <tbody>\n",
       "    <tr>\n",
       "      <th>0</th>\n",
       "      <td>2</td>\n",
       "      <td>William</td>\n",
       "      <td>1768</td>\n",
       "      <td>1</td>\n",
       "    </tr>\n",
       "    <tr>\n",
       "      <th>1</th>\n",
       "      <td>3</td>\n",
       "      <td>James</td>\n",
       "      <td>615</td>\n",
       "      <td>3</td>\n",
       "    </tr>\n",
       "    <tr>\n",
       "      <th>2</th>\n",
       "      <td>7</td>\n",
       "      <td>Joseph</td>\n",
       "      <td>82</td>\n",
       "      <td>3</td>\n",
       "    </tr>\n",
       "    <tr>\n",
       "      <th>3</th>\n",
       "      <td>7</td>\n",
       "      <td>Joseph</td>\n",
       "      <td>532</td>\n",
       "      <td>3</td>\n",
       "    </tr>\n",
       "    <tr>\n",
       "      <th>4</th>\n",
       "      <td>8</td>\n",
       "      <td>Thomas</td>\n",
       "      <td>698</td>\n",
       "      <td>3</td>\n",
       "    </tr>\n",
       "  </tbody>\n",
       "</table>\n",
       "</div>"
      ],
      "text/plain": [
       "   user_id user_username  movie_id  rating\n",
       "0        2       William      1768       1\n",
       "1        3         James       615       3\n",
       "2        7        Joseph        82       3\n",
       "3        7        Joseph       532       3\n",
       "4        8        Thomas       698       3"
      ]
     },
     "execution_count": 3,
     "metadata": {},
     "output_type": "execute_result"
    }
   ],
   "source": [
    "ratings_data = pd.read_csv(\"ratings.csv\")\n",
    "ratings_data.head()"
   ]
  },
  {
   "cell_type": "markdown",
   "metadata": {},
   "source": [
    "**Description of the dataset :** \n",
    "- userId, to characterize the users \n",
    "- movieId, to characterize the movies\n",
    "- rating : the rating of the user to the corresponding movie. Ratings are going from 1 to 5 but here we will only use the seen / not seen information to provide movie recommendations.  \n",
    "- timestamp : we will not be using this column\n",
    "\n",
    "More information about the movies are available in the \"movies.csv\" dataset : the movieId gives us access to the corresponding movie information such as the title and the genres. "
   ]
  },
  {
   "cell_type": "code",
   "execution_count": 4,
   "metadata": {},
   "outputs": [
    {
     "data": {
      "text/html": [
       "<div>\n",
       "<style scoped>\n",
       "    .dataframe tbody tr th:only-of-type {\n",
       "        vertical-align: middle;\n",
       "    }\n",
       "\n",
       "    .dataframe tbody tr th {\n",
       "        vertical-align: top;\n",
       "    }\n",
       "\n",
       "    .dataframe thead th {\n",
       "        text-align: right;\n",
       "    }\n",
       "</style>\n",
       "<table border=\"1\" class=\"dataframe\">\n",
       "  <thead>\n",
       "    <tr style=\"text-align: right;\">\n",
       "      <th></th>\n",
       "      <th>movieId</th>\n",
       "      <th>title</th>\n",
       "      <th>genres</th>\n",
       "    </tr>\n",
       "  </thead>\n",
       "  <tbody>\n",
       "    <tr>\n",
       "      <th>0</th>\n",
       "      <td>1</td>\n",
       "      <td>Toy Story (1995)</td>\n",
       "      <td>Adventure|Animation|Children|Comedy|Fantasy</td>\n",
       "    </tr>\n",
       "    <tr>\n",
       "      <th>1</th>\n",
       "      <td>2</td>\n",
       "      <td>Jumanji (1995)</td>\n",
       "      <td>Adventure|Children|Fantasy</td>\n",
       "    </tr>\n",
       "    <tr>\n",
       "      <th>2</th>\n",
       "      <td>3</td>\n",
       "      <td>Grumpier Old Men (1995)</td>\n",
       "      <td>Comedy|Romance</td>\n",
       "    </tr>\n",
       "    <tr>\n",
       "      <th>3</th>\n",
       "      <td>4</td>\n",
       "      <td>Waiting to Exhale (1995)</td>\n",
       "      <td>Comedy|Drama|Romance</td>\n",
       "    </tr>\n",
       "    <tr>\n",
       "      <th>4</th>\n",
       "      <td>5</td>\n",
       "      <td>Father of the Bride Part II (1995)</td>\n",
       "      <td>Comedy</td>\n",
       "    </tr>\n",
       "  </tbody>\n",
       "</table>\n",
       "</div>"
      ],
      "text/plain": [
       "   movieId                               title  \\\n",
       "0        1                    Toy Story (1995)   \n",
       "1        2                      Jumanji (1995)   \n",
       "2        3             Grumpier Old Men (1995)   \n",
       "3        4            Waiting to Exhale (1995)   \n",
       "4        5  Father of the Bride Part II (1995)   \n",
       "\n",
       "                                        genres  \n",
       "0  Adventure|Animation|Children|Comedy|Fantasy  \n",
       "1                   Adventure|Children|Fantasy  \n",
       "2                               Comedy|Romance  \n",
       "3                         Comedy|Drama|Romance  \n",
       "4                                       Comedy  "
      ]
     },
     "execution_count": 4,
     "metadata": {},
     "output_type": "execute_result"
    }
   ],
   "source": [
    "movies = pd.read_csv(\"movies.csv\")\n",
    "movies.head()"
   ]
  },
  {
   "cell_type": "code",
   "execution_count": 112,
   "metadata": {},
   "outputs": [
    {
     "data": {
      "text/plain": [
       "(9742, 3)"
      ]
     },
     "execution_count": 112,
     "metadata": {},
     "output_type": "execute_result"
    }
   ],
   "source": [
    "movies.shape"
   ]
  },
  {
   "cell_type": "markdown",
   "metadata": {},
   "source": [
    "### Create a Spark environment"
   ]
  },
  {
   "cell_type": "code",
   "execution_count": 5,
   "metadata": {},
   "outputs": [],
   "source": [
    "sc = pyspark.SparkContext()"
   ]
  },
  {
   "cell_type": "markdown",
   "metadata": {},
   "source": [
    "To be able to implement the PLSI algorithm in Spark, we will need to transform the dataset into an RDD, and then perform pyspark operations on it. "
   ]
  },
  {
   "cell_type": "code",
   "execution_count": 116,
   "metadata": {},
   "outputs": [
    {
     "data": {
      "text/plain": [
       "['2,William,1768,1',\n",
       " '3,James,615,3',\n",
       " '7,Joseph,82,3',\n",
       " '7,Joseph,532,3',\n",
       " '8,Thomas,698,3',\n",
       " '10,Robert,1693,3',\n",
       " '11,Edward,615,1',\n",
       " '18,David,1,3',\n",
       " '18,David,28,3',\n",
       " '18,David,1596,5']"
      ]
     },
     "execution_count": 116,
     "metadata": {},
     "output_type": "execute_result"
    }
   ],
   "source": [
    "rdd = sc.textFile(\"ratings.csv\")\n",
    "\n",
    "#Remove header line \n",
    "header = rdd.first()\n",
    "rdd = rdd.filter(lambda x: x != header)\n",
    "\n",
    "rdd.collect()[0:10]"
   ]
  },
  {
   "cell_type": "code",
   "execution_count": 110,
   "metadata": {},
   "outputs": [
    {
     "data": {
      "text/plain": [
       "295"
      ]
     },
     "execution_count": 110,
     "metadata": {},
     "output_type": "execute_result"
    }
   ],
   "source": [
    "rdd.count()"
   ]
  },
  {
   "cell_type": "markdown",
   "metadata": {},
   "source": [
    "## 2. Probabilistic Latent Semantic Indexing algorithm (PLSI)"
   ]
  },
  {
   "cell_type": "markdown",
   "metadata": {},
   "source": [
    "The PLSI algorithm that we will implement here is based on Das description of the Google News recommendation system. The algorithm is based on the following model : \n",
    "- u (users) and s (movies) are random variables \n",
    "- The relationship between users and movies is learned by modeling the joint distribution of users and items as a mixture distribution \n",
    "- To capture this relationship, we introduce a hidden variable z (latent variable), that kind of represents user communities (same preferences) and movie communities (sames genres). \n",
    "\n",
    "All in all, we try to compute the following probability for each (user, movie) couple : p(s|u) = sum(p(s|z)p(z|u)), which is the probability for a given user to see a given movie. This is obtained by summing for each community the probability for a movie s to be seen given a community z times the probability to be in the community z given a user u. "
   ]
  },
  {
   "cell_type": "markdown",
   "metadata": {},
   "source": [
    "### Going through the algorithm : main steps"
   ]
  },
  {
   "cell_type": "markdown",
   "metadata": {},
   "source": [
    "**INITIALISATION**\n",
    "\n",
    "**E-STEP - Compute q( z | (u,s) ) : the probability that the (user, movie) couple belongs to the class z**\n",
    "This step is first initialized at random :\n",
    "- To each couple (u,s), assign each possible community \n",
    "- Ex with number of classes = 2 : the lines (Marie, Star Wars) and (Gaëlle, Matrix) will give (Marie, Star Wars, 1), (Marie, Star Wars, 2), (Gaëlle, Matrix, 1), (Gaëlle, Matrix, 2)\n",
    "- To each line, assign a random probability. This random probability corresponds to q*( z | (u,s) ). For example if I have (Marie, Star Wars, 1, 0.3), then the probability that the couple (Marie, Star Wars) is in class 1 is 0.3. \n",
    "\n",
    "LogLik = 0\n",
    "\n",
    "**ITERATION**\n",
    "\n",
    "**M-STEP - Compute p(s|z) and p(z|u) based on q( z | (u,s) )**\n",
    "- Compute p(s | z) :  sum the probas associated to every couple (s,z) and divide it by the sum of probas associated to this z\n",
    "- Compute p(z | u) : sum the probas associated to every couple (u,z) and divide by the sum of probas associated to this u\n",
    "\n",
    "**E-STEP - Compute new q( z | (u,s) ) = p(s|z)p(z|u) / ∑p(s|z)p(z|u)**\n",
    "- For each (u,s,z), compute p(s | z) * p(z | u)\n",
    "- For each (u,s), compute ∑ p(s | z)* p(z | u) (summing over z)     ***(this corresponds to p(s|u))***\n",
    "- For each (u,s,z), compute p(s|z)p(z|u) / ∑p(s|z)p(z|u)             ***(this corresponds to the new q( z | (u,s) )***\n",
    "\t    \n",
    "**Update LogLik** = sum( log( ∑ p(s | z) * p(z | u))) = sum( log (p(s | u))\n",
    "\n",
    "**Iterate again until LogLik converges** : this means that it has reached its maximum and we have found the best estimation of p(z | u) and p(s | z).\n",
    "\t    \n",
    "**We can now predict the probability that Gaëlle will watch Star Wars** :\n",
    "p(Star Wars | Gaëlle) = p( 1 | Gaëlle) * p(Star Wars |1) + p(2 | Gaëlle) * p(Star Wars | 2)"
   ]
  },
  {
   "cell_type": "markdown",
   "metadata": {},
   "source": [
    "### Implementing the algorithm "
   ]
  },
  {
   "cell_type": "markdown",
   "metadata": {},
   "source": [
    "Keep only (user, movie) information : "
   ]
  },
  {
   "cell_type": "code",
   "execution_count": 117,
   "metadata": {},
   "outputs": [],
   "source": [
    "rdd = rdd.map(lambda line : line.split(',')).map(lambda line : line[0] + ',' + line[2])"
   ]
  },
  {
   "cell_type": "code",
   "execution_count": 118,
   "metadata": {},
   "outputs": [
    {
     "data": {
      "text/plain": [
       "295"
      ]
     },
     "execution_count": 118,
     "metadata": {},
     "output_type": "execute_result"
    }
   ],
   "source": [
    "rdd.count()"
   ]
  },
  {
   "cell_type": "markdown",
   "metadata": {},
   "source": [
    "#### Initialisation of q : (first E-Step)"
   ]
  },
  {
   "cell_type": "markdown",
   "metadata": {},
   "source": [
    "To each couple (u,s), assign each possible community z : "
   ]
  },
  {
   "cell_type": "code",
   "execution_count": 119,
   "metadata": {},
   "outputs": [],
   "source": [
    "nb_z = 3 #number of classes\n",
    "classes = sc.parallelize(range(nb_z))\n",
    "classes.collect()\n",
    "rdd = rdd.cartesian(classes)\n",
    "rdd = rdd.distinct()"
   ]
  },
  {
   "cell_type": "code",
   "execution_count": 120,
   "metadata": {},
   "outputs": [
    {
     "data": {
      "text/plain": [
       "882"
      ]
     },
     "execution_count": 120,
     "metadata": {},
     "output_type": "execute_result"
    }
   ],
   "source": [
    "rdd.count()"
   ]
  },
  {
   "cell_type": "code",
   "execution_count": 121,
   "metadata": {},
   "outputs": [
    {
     "data": {
      "text/plain": [
       "882"
      ]
     },
     "execution_count": 121,
     "metadata": {},
     "output_type": "execute_result"
    }
   ],
   "source": [
    "ordered_rdd = rdd.map(lambda x: (x[0].split(','), x[1])).sortBy(lambda x : (x[0][0], x[0][1], x[1]))\n",
    "ordered_rdd.count()"
   ]
  },
  {
   "cell_type": "markdown",
   "metadata": {},
   "source": [
    "To each line, assign a random probability :"
   ]
  },
  {
   "cell_type": "code",
   "execution_count": 59,
   "metadata": {},
   "outputs": [],
   "source": [
    "proba0 = np.random.rand(int(ordered_rdd.count()/nb_z), nb_z)\n",
    "random_p = (proba0 / np.reshape(proba0.sum(1), (int(ordered_rdd.count()/nb_z), 1))).flatten()\n",
    "random_p = list(random_p)"
   ]
  },
  {
   "cell_type": "code",
   "execution_count": 60,
   "metadata": {},
   "outputs": [],
   "source": [
    "q = ordered_rdd.map(lambda x : (x, random_p.pop(0))) "
   ]
  },
  {
   "cell_type": "code",
   "execution_count": 122,
   "metadata": {},
   "outputs": [
    {
     "data": {
      "text/plain": [
       "882"
      ]
     },
     "execution_count": 122,
     "metadata": {},
     "output_type": "execute_result"
    }
   ],
   "source": [
    "q.count()"
   ]
  },
  {
   "cell_type": "markdown",
   "metadata": {},
   "source": [
    "#### One iteration step "
   ]
  },
  {
   "cell_type": "markdown",
   "metadata": {},
   "source": [
    "M-STEP - Compute p(s|z) and p(z|u) based on q( z | (u,s) )"
   ]
  },
  {
   "cell_type": "markdown",
   "metadata": {},
   "source": [
    "Compute p(s | z) : sum the probas associated to every couple (s,z) and divide it by the sum of probas associated to this z"
   ]
  },
  {
   "cell_type": "code",
   "execution_count": 149,
   "metadata": {},
   "outputs": [],
   "source": [
    "SZ_probas = q.map(lambda x: ((x[0][0][1], x[0][1]), x[1]))"
   ]
  },
  {
   "cell_type": "code",
   "execution_count": 150,
   "metadata": {},
   "outputs": [],
   "source": [
    "Nsz = SZ_probas.reduceByKey(lambda x,y: x + y)"
   ]
  },
  {
   "cell_type": "code",
   "execution_count": 151,
   "metadata": {},
   "outputs": [],
   "source": [
    "Z_probas = q.map(lambda x: (x[0][1], x[1]))"
   ]
  },
  {
   "cell_type": "code",
   "execution_count": 152,
   "metadata": {},
   "outputs": [],
   "source": [
    "Nz = Z_probas.reduceByKey(lambda x,y: x+y)"
   ]
  },
  {
   "cell_type": "code",
   "execution_count": 153,
   "metadata": {},
   "outputs": [],
   "source": [
    "Nsz = Nsz.map(lambda x : (x[0][1], (x[0][0], x[1])))"
   ]
  },
  {
   "cell_type": "code",
   "execution_count": 154,
   "metadata": {},
   "outputs": [],
   "source": [
    "Psz = Nsz.join(Nz)"
   ]
  },
  {
   "cell_type": "code",
   "execution_count": 155,
   "metadata": {},
   "outputs": [],
   "source": [
    "Psz = Psz.map(lambda x : ((x[1][0][0], x[0]), x[1][0][1] / x[1][1]))"
   ]
  },
  {
   "cell_type": "code",
   "execution_count": 156,
   "metadata": {},
   "outputs": [
    {
     "data": {
      "text/plain": [
       "[(('68', 0), 0.03256301978953673),\n",
       " (('564', 0), 0.0456296914649065),\n",
       " (('598', 0), 0.039794696974641275),\n",
       " (('517', 0), 0.03873465730959445),\n",
       " (('1', 0), 0.0024997187053983397),\n",
       " (('1596', 0), 0.016210888135171533),\n",
       " (('1293', 0), 0.007316101600084628),\n",
       " (('130', 0), 0.03199415695945645),\n",
       " (('2767', 0), 0.0058923521597445214),\n",
       " (('3390', 0), 0.007129522877872921)]"
      ]
     },
     "execution_count": 156,
     "metadata": {},
     "output_type": "execute_result"
    }
   ],
   "source": [
    "Psz.collect()[0:10]"
   ]
  },
  {
   "cell_type": "markdown",
   "metadata": {},
   "source": [
    "Compute p(z | u) : sum the probas associated to every couple (u,z) and divide by the sum of probas associated to this u"
   ]
  },
  {
   "cell_type": "code",
   "execution_count": 157,
   "metadata": {},
   "outputs": [],
   "source": [
    "ZU_probas = q.map(lambda x: ((x[0][0][0], x[0][1]), x[1]))"
   ]
  },
  {
   "cell_type": "code",
   "execution_count": 158,
   "metadata": {},
   "outputs": [],
   "source": [
    "Nzu = ZU_probas.reduceByKey(lambda x,y: x + y)"
   ]
  },
  {
   "cell_type": "code",
   "execution_count": 159,
   "metadata": {},
   "outputs": [],
   "source": [
    "U_probas = q.map(lambda x: (x[0][0][0], x[1]))"
   ]
  },
  {
   "cell_type": "code",
   "execution_count": 160,
   "metadata": {},
   "outputs": [],
   "source": [
    "Nu = U_probas.reduceByKey(lambda x,y: x+y)"
   ]
  },
  {
   "cell_type": "code",
   "execution_count": 161,
   "metadata": {},
   "outputs": [],
   "source": [
    "Nzu = Nzu.map(lambda x : (x[0][0], (x[0][1], x[1])))"
   ]
  },
  {
   "cell_type": "code",
   "execution_count": 162,
   "metadata": {},
   "outputs": [],
   "source": [
    "Pzu = Nzu.join(Nu)"
   ]
  },
  {
   "cell_type": "code",
   "execution_count": 163,
   "metadata": {},
   "outputs": [],
   "source": [
    "Pzu = Pzu.map(lambda x : ((x[1][0][0], x[0]), x[1][0][1] / x[1][1]))"
   ]
  },
  {
   "cell_type": "code",
   "execution_count": 164,
   "metadata": {},
   "outputs": [
    {
     "data": {
      "text/plain": [
       "[((1, '10'), 0.16963470139079387),\n",
       " ((0, '10'), 0.4221572109040528),\n",
       " ((2, '10'), 0.4082080877051534),\n",
       " ((1, '102'), 0.37803579896367123),\n",
       " ((0, '102'), 0.0804472599717988),\n",
       " ((2, '102'), 0.54151694106453),\n",
       " ((1, '112'), 0.02336607334999523),\n",
       " ((0, '112'), 0.3769991829941053),\n",
       " ((2, '112'), 0.5996347436558995),\n",
       " ((1, '121'), 0.2545663277686507)]"
      ]
     },
     "execution_count": 164,
     "metadata": {},
     "output_type": "execute_result"
    }
   ],
   "source": [
    "Pzu.collect()[0:10]"
   ]
  },
  {
   "cell_type": "markdown",
   "metadata": {},
   "source": [
    "E-STEP - Compute new q( z | (u,s) ) = p(s|z)p(z|u) / ∑p(s|z)p(z|u)"
   ]
  },
  {
   "cell_type": "markdown",
   "metadata": {},
   "source": [
    "For each (u,s,z), compute p(s | z) * p(z | u)"
   ]
  },
  {
   "cell_type": "code",
   "execution_count": 165,
   "metadata": {},
   "outputs": [
    {
     "data": {
      "text/plain": [
       "[((1, '10'), 0.16963470139079387),\n",
       " ((0, '10'), 0.4221572109040528),\n",
       " ((2, '10'), 0.4082080877051534),\n",
       " ((1, '102'), 0.37803579896367123),\n",
       " ((0, '102'), 0.0804472599717988),\n",
       " ((2, '102'), 0.54151694106453),\n",
       " ((1, '112'), 0.02336607334999523),\n",
       " ((0, '112'), 0.3769991829941053),\n",
       " ((2, '112'), 0.5996347436558995),\n",
       " ((1, '121'), 0.2545663277686507)]"
      ]
     },
     "execution_count": 165,
     "metadata": {},
     "output_type": "execute_result"
    }
   ],
   "source": [
    "Pzu.collect()[0:10]"
   ]
  },
  {
   "cell_type": "code",
   "execution_count": 166,
   "metadata": {},
   "outputs": [
    {
     "data": {
      "text/plain": [
       "[(('68', 0), 0.03256301978953673),\n",
       " (('564', 0), 0.0456296914649065),\n",
       " (('598', 0), 0.039794696974641275),\n",
       " (('517', 0), 0.03873465730959445),\n",
       " (('1', 0), 0.0024997187053983397),\n",
       " (('1596', 0), 0.016210888135171533),\n",
       " (('1293', 0), 0.007316101600084628),\n",
       " (('130', 0), 0.03199415695945645),\n",
       " (('2767', 0), 0.0058923521597445214),\n",
       " (('3390', 0), 0.007129522877872921)]"
      ]
     },
     "execution_count": 166,
     "metadata": {},
     "output_type": "execute_result"
    }
   ],
   "source": [
    "Psz.collect()[0:10]"
   ]
  },
  {
   "cell_type": "code",
   "execution_count": 168,
   "metadata": {},
   "outputs": [
    {
     "data": {
      "text/plain": [
       "[((['10', '1693'], 0), 0.4221572109040528),\n",
       " ((['10', '1693'], 1), 0.16963470139079387),\n",
       " ((['10', '1693'], 2), 0.4082080877051534),\n",
       " ((['102', '750'], 0), 0.0804472599717988),\n",
       " ((['102', '750'], 1), 0.37803579896367123),\n",
       " ((['102', '750'], 2), 0.54151694106453),\n",
       " ((['104', '68'], 0), 0.08620273757421953),\n",
       " ((['104', '68'], 1), 0.6216334844783418),\n",
       " ((['104', '68'], 2), 0.29216377794743864),\n",
       " ((['109', '641'], 0), 0.21377081825163968)]"
      ]
     },
     "execution_count": 168,
     "metadata": {},
     "output_type": "execute_result"
    }
   ],
   "source": [
    "q.collect()[0:10]"
   ]
  },
  {
   "cell_type": "code",
   "execution_count": 169,
   "metadata": {},
   "outputs": [],
   "source": [
    "q_int = q.map(lambda x : ((x[0][1], x[0][0][0]), (x[0][0][1], x[0][1])))"
   ]
  },
  {
   "cell_type": "code",
   "execution_count": 179,
   "metadata": {},
   "outputs": [
    {
     "data": {
      "text/plain": [
       "[((0, '10'), ('1693', 0)),\n",
       " ((1, '10'), ('1693', 1)),\n",
       " ((2, '10'), ('1693', 2)),\n",
       " ((0, '102'), ('750', 0)),\n",
       " ((1, '102'), ('750', 1)),\n",
       " ((2, '102'), ('750', 2)),\n",
       " ((0, '104'), ('68', 0)),\n",
       " ((1, '104'), ('68', 1)),\n",
       " ((2, '104'), ('68', 2)),\n",
       " ((0, '109'), ('641', 0))]"
      ]
     },
     "execution_count": 179,
     "metadata": {},
     "output_type": "execute_result"
    }
   ],
   "source": [
    "q_int.collect()[0:10]"
   ]
  },
  {
   "cell_type": "code",
   "execution_count": 187,
   "metadata": {},
   "outputs": [
    {
     "data": {
      "text/plain": [
       "[((2, '10'), (('1693', 2), 0.4082080877051534)),\n",
       " ((2, '102'), (('750', 2), 0.54151694106453)),\n",
       " ((2, '112'), (('681', 2), 0.5996347436558995)),\n",
       " ((0, '116'), (('3753', 0), 0.42782101132556444)),\n",
       " ((2, '119'), (('564', 2), 0.20088974585296776)),\n",
       " ((2, '121'), (('564', 2), 0.5656429411196668)),\n",
       " ((2, '121'), (('710', 2), 0.5656429411196668)),\n",
       " ((2, '121'), (('781', 2), 0.5656429411196668)),\n",
       " ((1, '196'), (('1768', 1), 0.35805914103750713)),\n",
       " ((1, '196'), (('615', 1), 0.35805914103750713))]"
      ]
     },
     "execution_count": 187,
     "metadata": {},
     "output_type": "execute_result"
    }
   ],
   "source": [
    "q_int2 = q_int.join(Pzu)\n",
    "q_int2.collect()[0:10]"
   ]
  },
  {
   "cell_type": "code",
   "execution_count": 200,
   "metadata": {},
   "outputs": [
    {
     "data": {
      "text/plain": [
       "[(('1693', 2), ((2, '10'), 0.4082080877051534)),\n",
       " (('750', 2), ((2, '102'), 0.54151694106453)),\n",
       " (('681', 2), ((2, '112'), 0.5996347436558995)),\n",
       " (('3753', 0), ((0, '116'), 0.42782101132556444)),\n",
       " (('564', 2), ((2, '119'), 0.20088974585296776)),\n",
       " (('564', 2), ((2, '121'), 0.5656429411196668)),\n",
       " (('710', 2), ((2, '121'), 0.5656429411196668)),\n",
       " (('781', 2), ((2, '121'), 0.5656429411196668)),\n",
       " (('1768', 1), ((1, '196'), 0.35805914103750713)),\n",
       " (('615', 1), ((1, '196'), 0.35805914103750713))]"
      ]
     },
     "execution_count": 200,
     "metadata": {},
     "output_type": "execute_result"
    }
   ],
   "source": [
    "q_int3 = q_int2.map(lambda x : (x[1][0], (x[0], x[1][1])))\n",
    "q_int3.collect()[0:10]"
   ]
  },
  {
   "cell_type": "code",
   "execution_count": 193,
   "metadata": {},
   "outputs": [
    {
     "data": {
      "text/plain": [
       "[(('68', 0), 0.03256301978953673),\n",
       " (('564', 0), 0.0456296914649065),\n",
       " (('598', 0), 0.039794696974641275),\n",
       " (('517', 0), 0.03873465730959445),\n",
       " (('1', 0), 0.0024997187053983397),\n",
       " (('1596', 0), 0.016210888135171533),\n",
       " (('1293', 0), 0.007316101600084628),\n",
       " (('130', 0), 0.03199415695945645),\n",
       " (('2767', 0), 0.0058923521597445214),\n",
       " (('3390', 0), 0.007129522877872921)]"
      ]
     },
     "execution_count": 193,
     "metadata": {},
     "output_type": "execute_result"
    }
   ],
   "source": [
    "Psz.collect()[0:10]"
   ]
  },
  {
   "cell_type": "code",
   "execution_count": 236,
   "metadata": {},
   "outputs": [],
   "source": [
    "PzuPsz = q_int3.join(Psz)"
   ]
  },
  {
   "cell_type": "code",
   "execution_count": 237,
   "metadata": {},
   "outputs": [
    {
     "data": {
      "text/plain": [
       "[(('797', 2), (((2, '248'), 0.6866864862497908), 0.01089515621074776)),\n",
       " (('797', 2), (((2, '183'), 0.3868519783148643), 0.01089515621074776)),\n",
       " (('496', 2), (((2, '191'), 0.4721365194894196), 0.03624050251823825)),\n",
       " (('496', 2), (((2, '780'), 0.06586349378526116), 0.03624050251823825)),\n",
       " (('496', 2), (((2, '131'), 0.03484969453588014), 0.03624050251823825)),\n",
       " (('496', 2), (((2, '117'), 0.46928662376653096), 0.03624050251823825)),\n",
       " (('496', 2), (((2, '491'), 0.5965023967390713), 0.03624050251823825)),\n",
       " (('496', 2), (((2, '159'), 0.5880009614472013), 0.03624050251823825)),\n",
       " (('496', 2), (((2, '368'), 0.006222634220917525), 0.03624050251823825)),\n",
       " (('496', 2), (((2, '296'), 0.20092487544523233), 0.03624050251823825))]"
      ]
     },
     "execution_count": 237,
     "metadata": {},
     "output_type": "execute_result"
    }
   ],
   "source": [
    "PzuPsz.collect()[0:10]"
   ]
  },
  {
   "cell_type": "code",
   "execution_count": 238,
   "metadata": {},
   "outputs": [],
   "source": [
    "PzuPsz = PzuPsz.map(lambda x: ((x[1][0][0][1], x[0][0]), (x[0][1], x[1][0][1]*x[1][1])))"
   ]
  },
  {
   "cell_type": "code",
   "execution_count": 239,
   "metadata": {},
   "outputs": [
    {
     "data": {
      "text/plain": [
       "[(('248', '797'), (2, 0.007481556535500965)),\n",
       " (('183', '797'), (2, 0.004214812734177252)),\n",
       " (('191', '496'), (2, 0.017110464723508554)),\n",
       " (('780', '496'), (2, 0.0023869261123847262)),\n",
       " (('131', '496'), (2, 0.0012629704425873981)),\n",
       " (('117', '496'), (2, 0.017007183070386494)),\n",
       " (('491', '496'), (2, 0.021617546611157466)),\n",
       " (('159', '496'), (2, 0.021309450324053812)),\n",
       " (('368', '496'), (2, 0.0002255113911532371)),\n",
       " (('296', '496'), (2, 0.007281618454549649)),\n",
       " (('585', '496'), (2, 0.020460741434082354)),\n",
       " (('62', '496'), (2, 0.02231592026986537)),\n",
       " (('119', '564'), (0, 0.01449950935987998)),\n",
       " (('933', '564'), (0, 0.02701312056532757)),\n",
       " (('221', '564'), (0, 0.015235335573305019)),\n",
       " (('747', '564'), (0, 0.010984935558201646)),\n",
       " (('159', '564'), (0, 0.010048838006823914)),\n",
       " (('313', '564'), (0, 0.01503892283565035)),\n",
       " (('161', '564'), (0, 0.028266208578808738)),\n",
       " (('766', '564'), (0, 0.03223630442095555)),\n",
       " (('121', '564'), (0, 0.00820379558887604)),\n",
       " (('355', '564'), (0, 0.011470855867663915)),\n",
       " (('313', '532'), (1, 0.02146330766938458)),\n",
       " (('7', '532'), (1, 0.02267240143747063)),\n",
       " (('117', '532'), (1, 0.016844908618731835)),\n",
       " (('40', '532'), (1, 0.009503071924275287)),\n",
       " (('657', '532'), (1, 0.03940182410960911)),\n",
       " (('219', '532'), (1, 0.01811105036471122)),\n",
       " (('266', '532'), (1, 0.02552786558351662)),\n",
       " (('227', '532'), (1, 0.03175586705609986)),\n",
       " (('826', '532'), (1, 0.03196737829986889)),\n",
       " (('415', '532'), (1, 0.034824406003618226)),\n",
       " (('779', '532'), (1, 0.0323317200968187)),\n",
       " (('111', '805'), (2, 0.002720192294877989)),\n",
       " (('570', '805'), (2, 0.004730361936884182)),\n",
       " (('541', '1935'), (1, 0.0013837608155116254)),\n",
       " (('485', '1935'), (1, 0.0005287743149323337)),\n",
       " (('18', '1'), (0, 0.0009246774004677415)),\n",
       " (('916', '3390'), (0, 0.0017922919641082937)),\n",
       " (('534', '3390'), (0, 0.002868244130748194)),\n",
       " (('224', '3252'), (1, 0.001543668112516443)),\n",
       " (('313', '3252'), (1, 0.004589641296092026)),\n",
       " (('588', '3252'), (1, 0.002301908942686417)),\n",
       " (('219', '3252'), (1, 0.0038728059043783235)),\n",
       " (('619', '3252'), (1, 0.0013631593399943522)),\n",
       " (('18', '3252'), (1, 0.003852766810069082)),\n",
       " (('319', '2232'), (0, 0.0035202477999857727)),\n",
       " (('902', '2232'), (0, 0.0011334749495629768)),\n",
       " (('153', '471'), (2, 0.016340397176556158)),\n",
       " (('171', '471'), (2, 0.011185927311180607)),\n",
       " (('850', '471'), (2, 0.008424250968823717)),\n",
       " (('767', '471'), (2, 0.007677760748344041)),\n",
       " (('66', '471'), (2, 0.008461324606318389)),\n",
       " (('136', '471'), (2, 0.012507615633177052)),\n",
       " (('782', '471'), (2, 0.010191872670598994)),\n",
       " (('82', '471'), (2, 0.013883948421583272)),\n",
       " (('218', '471'), (2, 0.010007170303745516)),\n",
       " (('890', '471'), (2, 0.0072580662893797195)),\n",
       " (('45', '3106'), (0, 0.00026491861643175417)),\n",
       " (('450', '3106'), (0, 0.0012731417342212606)),\n",
       " (('321', '2885'), (0, 9.238202597758998e-05)),\n",
       " (('787', '2885'), (0, 0.0005765143186622089)),\n",
       " (('662', '2654'), (2, 0.0011926348093727508)),\n",
       " (('251', '2654'), (2, 0.0004026944744245883)),\n",
       " (('450', '3106'), (1, 0.004056939438972758)),\n",
       " (('45', '3106'), (1, 0.0031125536935355026)),\n",
       " (('787', '2885'), (1, 0.0075395882598117605)),\n",
       " (('321', '2885'), (1, 0.009192687707828856)),\n",
       " (('902', '2232'), (1, 0.0037677162392014)),\n",
       " (('319', '2232'), (1, 0.002776254098815286)),\n",
       " (('619', '3252'), (0, 0.007093527459187171)),\n",
       " (('219', '3252'), (0, 0.009051424124817102)),\n",
       " (('18', '3252'), (0, 0.009057447599530775)),\n",
       " (('588', '3252'), (0, 0.007404656248314744)),\n",
       " (('313', '3252'), (0, 0.008070044426856389)),\n",
       " (('224', '3252'), (0, 0.008768918528129202)),\n",
       " (('579', '1097'), (2, 0.0018601425118872088)),\n",
       " (('230', '1097'), (2, 0.004082406243616883)),\n",
       " (('175', '1097'), (2, 0.0035787012037374164)),\n",
       " (('116', '3753'), (0, 0.008690121135930621)),\n",
       " (('383', '3753'), (0, 0.009116347453115741)),\n",
       " (('210', '3753'), (0, 0.005867462745396435)),\n",
       " (('219', '3753'), (0, 0.007508858298555868)),\n",
       " (('18', '3753'), (0, 0.007513855237983986)),\n",
       " (('313', '3753'), (0, 0.006694727727780581)),\n",
       " (('661', '3753'), (0, 0.0052025621261202705)),\n",
       " (('121', '781'), (2, 0.020282754688861104)),\n",
       " (('33', '781'), (2, 0.006979804450226031)),\n",
       " (('171', '781'), (2, 0.01208788718147004)),\n",
       " (('587', '781'), (2, 0.007203479683805299)),\n",
       " (('467', '781'), (2, 0.0032729165683762825)),\n",
       " (('932', '781'), (2, 0.00022313044899234616)),\n",
       " (('159', '781'), (2, 0.0210844658190916)),\n",
       " (('326', '781'), (2, 0.013474284824827324)),\n",
       " (('582', '781'), (2, 0.0178854676776238)),\n",
       " (('614', '781'), (2, 0.016114461116049313)),\n",
       " (('224', '457'), (1, 0.003988795346223702)),\n",
       " (('241', '457'), (1, 0.007623494257265473)),\n",
       " (('388', '457'), (1, 0.007006659987159567)),\n",
       " (('894', '457'), (1, 0.011034434760798684)),\n",
       " (('219', '457'), (1, 0.01000722243528716)),\n",
       " (('481', '457'), (1, 0.008263463755265684)),\n",
       " (('69', '457'), (1, 0.011042582589302376)),\n",
       " (('76', '457'), (1, 0.014610215750020066)),\n",
       " (('256', '457'), (1, 0.0013880877326383546)),\n",
       " (('907', '457'), (1, 0.0178648233100128)),\n",
       " (('215', '457'), (1, 0.0027488726792699735)),\n",
       " (('51', '2498'), (1, 0.007814562776313514)),\n",
       " (('313', '2498'), (1, 0.005865559252910335)),\n",
       " (('788', '2498'), (1, 0.008242932322936944)),\n",
       " (('204', '2498'), (1, 0.003641337844634199)),\n",
       " (('313', '3680'), (2, 0.004619119064633582)),\n",
       " (('584', '3680'), (2, 0.006013274601953327)),\n",
       " (('592', '3680'), (2, 0.013167070264688554)),\n",
       " (('332', '3459'), (2, 0.0008402682798073831)),\n",
       " (('765', '3459'), (2, 0.0008105666712582392)),\n",
       " (('767', '471'), (1, 0.004864162392894413)),\n",
       " (('171', '471'), (1, 0.009915764414892513)),\n",
       " (('136', '471'), (1, 0.015081533541881584)),\n",
       " (('82', '471'), (1, 0.010981699470101974)),\n",
       " (('890', '471'), (1, 0.0016318581044249757)),\n",
       " (('66', '471'), (1, 0.007432839428496343)),\n",
       " (('782', '471'), (1, 0.012755108186766322)),\n",
       " (('850', '471'), (1, 0.014332843786420899)),\n",
       " (('218', '471'), (1, 0.007746611607398572)),\n",
       " (('153', '471'), (1, 0.008482595242472675)),\n",
       " (('224', '3252'), (2, 0.014966414165832519)),\n",
       " (('313', '3252'), (2, 0.00838110775139084)),\n",
       " (('18', '3252'), (2, 0.008999184710763755)),\n",
       " (('219', '3252'), (2, 0.008957559411411723)),\n",
       " (('619', '3252'), (2, 0.01740220386147073)),\n",
       " (('588', '3252'), (2, 0.014745321384691262)),\n",
       " (('251', '2654'), (1, 0.0033179974692453093)),\n",
       " (('662', '2654'), (1, 0.006673537698524709)),\n",
       " (('579', '1097'), (0, 0.004787239332830376)),\n",
       " (('175', '1097'), (0, 0.002774615680831755)),\n",
       " (('230', '1097'), (0, 0.005005443270788346)),\n",
       " (('854', '1118'), (0, 0.002830297009510464)),\n",
       " (('738', '1118'), (0, 0.0010795383269723118)),\n",
       " (('578', '1241'), (0, 0.0007810847874964729)),\n",
       " (('775', '1241'), (0, 0.0005983979187513287)),\n",
       " (('178', '517'), (2, 0.01496968993220126)),\n",
       " (('863', '517'), (2, 0.00445709737968575)),\n",
       " (('664', '517'), (2, 0.014104411218564462)),\n",
       " (('240', '517'), (2, 0.016445153058745464)),\n",
       " (('53', '517'), (2, 0.01496968993220126)),\n",
       " (('466', '517'), (2, 0.00728103384786553)),\n",
       " (('897', '517'), (2, 0.007135740067249604)),\n",
       " (('748', '517'), (2, 0.004655601599525632)),\n",
       " (('761', '517'), (2, 0.007735098975364321)),\n",
       " (('51', '517'), (2, 0.006696920241149724)),\n",
       " (('663', '517'), (2, 0.01496968993220126)),\n",
       " (('578', '1241'), (1, 0.0055538944773877285)),\n",
       " (('775', '1241'), (1, 0.004735167876647381)),\n",
       " (('854', '1118'), (1, 0.0014143929369597888)),\n",
       " (('738', '1118'), (1, 0.0036932046223733415)),\n",
       " (('882', '1856'), (2, 0.00151425066827748)),\n",
       " (('67', '1856'), (2, 0.003811927353531752)),\n",
       " (('355', '564'), (1, 0.011893961675908815)),\n",
       " (('313', '564'), (1, 0.013160286781875264)),\n",
       " (('121', '564'), (1, 0.008744177755117138)),\n",
       " (('221', '564'), (1, 0.013050910781705127)),\n",
       " (('747', '564'), (1, 0.021750710893319657)),\n",
       " (('933', '564'), (1, 0.008504154251540622)),\n",
       " (('766', '564'), (1, 0.0031511697948979683)),\n",
       " (('161', '564'), (1, 0.009129644537213936)),\n",
       " (('119', '564'), (1, 0.016533884628586116)),\n",
       " (('159', '564'), (1, 0.006587276423506724)),\n",
       " (('826', '532'), (0, 0.0005264691204269604)),\n",
       " (('227', '532'), (0, 0.006542130686740279)),\n",
       " (('40', '532'), (0, 0.00999517644143296)),\n",
       " (('657', '532'), (0, 5.961881664775594e-05)),\n",
       " (('219', '532'), (0, 0.008752385570846318)),\n",
       " (('313', '532'), (0, 0.007803428435537356)),\n",
       " (('779', '532'), (0, 0.002606746297347022)),\n",
       " (('117', '532'), (0, 0.005446126948976561)),\n",
       " (('7', '532'), (0, 0.0036235423515266264)),\n",
       " (('266', '532'), (0, 0.009285204206254513)),\n",
       " (('415', '532'), (0, 0.002040973242986231)),\n",
       " (('534', '3390'), (1, 0.001270253586094417)),\n",
       " (('916', '3390'), (1, 0.0026041893317159024)),\n",
       " (('485', '1935'), (0, 0.003291170126037254)),\n",
       " (('541', '1935'), (0, 0.001870993373027005)),\n",
       " (('18', '1'), (1, 0.0011524435462683426)),\n",
       " (('882', '1856'), (0, 0.00014104680365761808)),\n",
       " (('67', '1856'), (0, 0.0009651419507968494)),\n",
       " (('178', '517'), (0, 0.01159815492631695)),\n",
       " (('761', '517'), (0, 0.028272818968594148)),\n",
       " (('664', '517'), (0, 0.009277314389079768)),\n",
       " (('897', '517'), (0, 0.02736512486905189)),\n",
       " (('466', '517'), (0, 0.011974330885023421)),\n",
       " (('748', '517'), (0, 0.019701592944031447)),\n",
       " (('240', '517'), (0, 0.017281822081309146)),\n",
       " (('863', '517'), (0, 0.009325018442041557)),\n",
       " (('663', '517'), (0, 0.01159815492631695)),\n",
       " (('51', '517'), (0, 0.011627635875754255)),\n",
       " (('53', '517'), (0, 0.01159815492631695)),\n",
       " (('200', '82'), (1, 0.015933002050529506)),\n",
       " (('339', '82'), (1, 0.017538719744911523)),\n",
       " (('310', '82'), (1, 0.010131159016525913)),\n",
       " (('7', '82'), (1, 0.017538131907306895)),\n",
       " (('463', '82'), (1, 0.0019381620657778706)),\n",
       " (('170', '82'), (1, 0.030479099910464647)),\n",
       " (('333', '82'), (1, 0.006633723142497836)),\n",
       " (('478', '82'), (1, 0.027736647745800685)),\n",
       " (('990', '82'), (1, 0.015731817079554854)),\n",
       " (('228', '82'), (1, 0.016841092310472733)),\n",
       " (('38', '82'), (1, 0.01483154936329233)),\n",
       " (('52', '82'), (1, 0.01252013399913398)),\n",
       " (('313', '2008'), (2, 0.00562090030815995)),\n",
       " (('18', '2008'), (2, 0.006035421762180064)),\n",
       " (('219', '2008'), (2, 0.006007505206887446)),\n",
       " (('614', '2008'), (2, 0.008792810997871837)),\n",
       " (('698', '2008'), (2, 0.005585015302600281)),\n",
       " (('812', '1356'), (2, 0.004643782649525214)),\n",
       " (('406', '1356'), (2, 0.005643150505671554)),\n",
       " (('505', '2398'), (2, 0.003370365502286671)),\n",
       " (('218', '2398'), (2, 0.0018422876917474395)),\n",
       " (('27', '641'), (2, 0.009856492751106415)),\n",
       " (('39', '641'), (2, 0.008664028651479102)),\n",
       " (('738', '641'), (2, 0.00924176480344659)),\n",
       " (('526', '641'), (2, 0.009513342208951371)),\n",
       " (('109', '641'), (2, 0.00703112463709158)),\n",
       " (('301', '641'), (2, 0.020398191795311948)),\n",
       " (('544', '641'), (2, 0.007271109364026483)),\n",
       " (('875', '641'), (2, 0.004332829743044685)),\n",
       " (('183', '641'), (2, 0.01273185674011399)),\n",
       " (('399', '641'), (2, 0.016477034072222733)),\n",
       " (('201', '641'), (2, 0.00882441360839408)),\n",
       " (('478', '82'), (0, 0.006876954530824529)),\n",
       " (('38', '82'), (0, 0.010754735982807854)),\n",
       " (('339', '82'), (0, 0.0075155516193289385)),\n",
       " (('170', '82'), (0, 8.625390229423995e-05)),\n",
       " (('228', '82'), (0, 0.018658273792152288)),\n",
       " (('463', '82'), (0, 0.004670828474415033)),\n",
       " (('52', '82'), (0, 0.013140012984092553)),\n",
       " (('310', '82'), (0, 0.014153856938058228)),\n",
       " (('7', '82'), (0, 0.005242382950909884)),\n",
       " (('333', '82'), (0, 0.02108463185872934)),\n",
       " (('990', '82'), (0, 0.004669556500389034)),\n",
       " (('200', '82'), (0, 0.0065971872718107024)),\n",
       " (('676', '3624'), (2, 0.00011981683681921908)),\n",
       " (('652', '3624'), (2, 0.00013730636282414737)),\n",
       " (('319', '2232'), (2, 0.0005744798513734308)),\n",
       " (('902', '2232'), (2, 0.0015187461636502317)),\n",
       " (('230', '1097'), (1, 0.0007266943128468128)),\n",
       " (('175', '1097'), (1, 0.00305934402527721)),\n",
       " (('579', '1097'), (1, 0.0031152268313839014)),\n",
       " (('153', '471'), (0, 0.010113254720239334)),\n",
       " (('171', '471'), (0, 0.01474681935489033)),\n",
       " (('850', '471'), (0, 0.01240202573975915)),\n",
       " (('136', '471'), (0, 0.006239003940546121)),\n",
       " (('66', '471'), (0, 0.021482767099367486)),\n",
       " (('218', '471'), (0, 0.01910948756922479)),\n",
       " (('890', '471'), (0, 0.030680854525453785)),\n",
       " (('82', '471'), (0, 0.009919015978966815)),\n",
       " (('767', '471'), (0, 0.025873335836811496)),\n",
       " (('782', '471'), (0, 0.0122500011319222)),\n",
       " (('787', '2885'), (2, 0.0003754021916422032)),\n",
       " (('321', '2885'), (2, 0.0006224900578178804)),\n",
       " (('450', '3106'), (2, 0.0015749366737624546)),\n",
       " (('45', '3106'), (2, 0.0044262147672812086)),\n",
       " (('662', '2654'), (0, 0.00010030898407277732)),\n",
       " (('251', '2654'), (0, 0.002506314686361415)),\n",
       " (('526', '641'), (0, 0.0006834350380289301)),\n",
       " (('875', '641'), (0, 0.01550779788899872)),\n",
       " (('109', '641'), (0, 0.006517738440877512)),\n",
       " (('39', '641'), (0, 0.009822797307858892)),\n",
       " (('301', '641'), (0, 0.010977149044898516)),\n",
       " (('544', '641'), (0, 0.015963852287385425)),\n",
       " (('183', '641'), (0, 0.00701501429951569)),\n",
       " (('738', '641'), (0, 0.005685007606355083)),\n",
       " (('201', '641'), (0, 0.004013460801751263)),\n",
       " (('399', '641'), (0, 0.0041563536121673504)),\n",
       " (('27', '641'), (0, 0.004166015789478815)),\n",
       " (('614', '2008'), (1, 0.0026187077160582765)),\n",
       " (('313', '2008'), (1, 0.004975760425071416)),\n",
       " (('219', '2008'), (1, 0.004198618826572933)),\n",
       " (('698', '2008'), (1, 0.0036352108965733393)),\n",
       " (('18', '2008'), (1, 0.004176893875539593)),\n",
       " (('38', '82'), (2, 0.015669225996314783)),\n",
       " (('478', '82'), (2, 0.007255402010666141)),\n",
       " (('52', '82'), (2, 0.014926445332215932)),\n",
       " (('200', '82'), (2, 0.020042933983009457)),\n",
       " (('228', '82'), (2, 0.0030387315098638363)),\n",
       " (('463', '82'), (2, 0.03732623207775524)),\n",
       " (('310', '82'), (2, 0.016090137531266806)),\n",
       " (('333', '82'), (2, 0.01054637486685691)),\n",
       " (('990', '82'), (2, 0.022819541243018934)),\n",
       " (('339', '82'), (2, 0.017131995301666706)),\n",
       " (('170', '82'), (2, 0.013406878864419509)),\n",
       " (('7', '82'), (2, 0.02015740060023117)),\n",
       " (('505', '2398'), (1, 0.002130911125814561)),\n",
       " (('218', '2398'), (1, 0.0012969606900887008)),\n",
       " (('406', '1356'), (1, 0.0018069796538423204)),\n",
       " (('812', '1356'), (1, 0.00046712031414477347)),\n",
       " (('676', '3624'), (0, 0.005386450554589376)),\n",
       " (('652', '3624'), (0, 0.006720424152299087)),\n",
       " (('900', '710'), (0, 0.022950776594816376)),\n",
       " (('597', '710'), (0, 0.005534268426645178)),\n",
       " (('705', '710'), (0, 0.020555812302554165)),\n",
       " (('22', '710'), (0, 0.003991058334488334)),\n",
       " (('221', '710'), (0, 0.012449373859047163)),\n",
       " (('158', '710'), (0, 0.017051785424471104)),\n",
       " (('702', '710'), (0, 0.014014691385352178)),\n",
       " (('251', '710'), (0, 0.020882741653683742)),\n",
       " (('121', '710'), (0, 0.006703634314958784)),\n",
       " (('733', '710'), (0, 0.0008290861628077529)),\n",
       " (('901', '710'), (0, 0.008180733121532616)),\n",
       " (('219', '2055'), (0, 0.0047212900426570805)),\n",
       " (('18', '2055'), (0, 0.004724431931800236)),\n",
       " (('313', '2055'), (0, 0.004209395104119842)),\n",
       " (('981', '2055'), (0, 0.00213621869097668)),\n",
       " (('552', '1293'), (2, 0.002777521991651989)),\n",
       " (('187', '1293'), (2, 0.001611721240567476)),\n",
       " (('313', '2055'), (1, 0.006602328113374063)),\n",
       " (('981', '2055'), (1, 0.0070921743481554365)),\n",
       " (('219', '2055'), (1, 0.00557114023744948)),\n",
       " (('18', '2055'), (1, 0.005542313436575715)),\n",
       " (('121', '710'), (1, 0.009596350399532166)),\n",
       " (('705', '710'), (1, 0.00976761960811352)),\n",
       " (('251', '710'), (1, 0.01290461987983749)),\n",
       " (('597', '710'), (1, 0.017892243230854123)),\n",
       " (('733', '710'), (1, 0.021511111059880694)),\n",
       " (('901', '710'), (1, 0.015256956250919307)),\n",
       " (('22', '710'), (1, 0.00012008404239807021)),\n",
       " (('221', '710'), (1, 0.01432280042808861)),\n",
       " (('158', '710'), (1, 0.005138849350088106)),\n",
       " (('702', '710'), (1, 0.02029666954561312)),\n",
       " (('900', '710'), (1, 0.005770684818381024)),\n",
       " (('51', '517'), (1, 0.01758067215962514)),\n",
       " (('664', '517'), (1, 0.012455936939768798)),\n",
       " (('178', '517'), (1, 0.009549527283363422)),\n",
       " (('761', '517'), (1, 0.0017688435654121073)),\n",
       " (('53', '517'), (1, 0.009549527283363422)),\n",
       " (('748', '517'), (1, 0.012389579195941528)),\n",
       " (('466', '517'), (1, 0.01670349127197451)),\n",
       " (('663', '517'), (1, 0.009549527283363422)),\n",
       " (('897', '517'), (1, 0.003159705957658317)),\n",
       " (('863', '517'), (1, 0.02180963111038929)),\n",
       " (('240', '517'), (1, 0.0030586393839805875)),\n",
       " (('882', '1856'), (1, 0.00768778864002802)),\n",
       " (('67', '1856'), (1, 0.002108066228453628)),\n",
       " (('775', '1241'), (2, 0.001794215739878288)),\n",
       " (('578', '1241'), (2, 0.0011013299309993304)),\n",
       " (('738', '1118'), (2, 0.0020026411046051304)),\n",
       " (('854', '1118'), (2, 0.002190346965779545)),\n",
       " (('552', '1293'), (0, 0.0008374344361843727)),\n",
       " (('187', '1293'), (0, 0.003292728571148204)),\n",
       " (('313', '3915'), (1, 0.007301561686719931)),\n",
       " (('571', '3915'), (1, 0.011846848237725008)),\n",
       " (('219', '3915'), (1, 0.0061611636699341115)),\n",
       " (('433', '3915'), (1, 0.00044530150289642047)),\n",
       " (('18', '3915'), (1, 0.006129283905524308)),\n",
       " (('743', '3915'), (1, 0.00388817496706168)),\n",
       " (('18', '28'), (0, 0.003725706572301411)),\n",
       " (('313', '28'), (0, 0.0033195463986411397)),\n",
       " (('244', '1550'), (2, 0.002562020861449035)),\n",
       " (('621', '1550'), (2, 0.00419323978852625)),\n",
       " (('743', '3915'), (0, 0.010908337279718119)),\n",
       " (('571', '3915'), (0, 0.001923548439667726)),\n",
       " (('219', '3915'), (0, 0.008248828183332205)),\n",
       " (('18', '3915'), (0, 0.008254317552440821)),\n",
       " (('313', '3915'), (0, 0.007354468091543671)),\n",
       " (('433', '3915'), (0, 0.008412449657761166)),\n",
       " (('831', '770'), (2, 0.0022789895301366324)),\n",
       " (('328', '770'), (2, 0.00506771016066327)),\n",
       " (('60', '770'), (2, 0.002114693192624227)),\n",
       " (('219', '770'), (2, 0.007113685113973675)),\n",
       " (('579', '770'), (2, 0.004816529504961342)),\n",
       " (('308', '770'), (2, 0.007419858790191534)),\n",
       " (('96', '770'), (2, 0.0006777239129113024)),\n",
       " (('57', '770'), (2, 0.009457549084912956)),\n",
       " (('647', '770'), (2, 0.003356462715704998)),\n",
       " (('218', '770'), (2, 0.006987183170534655)),\n",
       " (('313', '28'), (1, 0.002547969471262303)),\n",
       " (('18', '28'), (1, 0.002138888766820926)),\n",
       " (('39', '641'), (1, 0.018215778215574907)),\n",
       " (('526', '641'), (1, 0.03025266652302737)),\n",
       " (('183', '641'), (1, 0.01683134041349674)),\n",
       " (('399', '641'), (1, 0.015950976548271076)),\n",
       " (('738', '641'), (1, 0.023407454174082444)),\n",
       " (('875', '641'), (1, 0.01580546174074443)),\n",
       " (('544', '641'), (1, 0.01122549865354448)),\n",
       " (('27', '641'), (1, 0.024775786985572305)),\n",
       " (('301', '641'), (1, 0.0008865778008315545)),\n",
       " (('109', '641'), (1, 0.025158712101422915)),\n",
       " (('201', '641'), (1, 0.026373508716420285)),\n",
       " (('614', '2008'), (0, 0.004986933851387071)),\n",
       " (('698', '2008'), (0, 0.006211353993895631)),\n",
       " (('219', '2008'), (0, 0.005282806879231745)),\n",
       " (('18', '2008'), (0, 0.005286322442442072)),\n",
       " (('313', '2008'), (0, 0.004710030778141687)),\n",
       " (('505', '2398'), (0, 0.0002093063805510476)),\n",
       " (('218', '2398'), (0, 0.0019942317411935097)),\n",
       " (('676', '3624'), (1, 0.003385865160901342)),\n",
       " (('652', '3624'), (1, 0.0024052933614988783)),\n",
       " (('812', '1356'), (0, 0.002708162922950651)),\n",
       " (('406', '1356'), (0, 0.0004770853669647935)),\n",
       " (('621', '1550'), (0, 0.0004315794882568642)),\n",
       " (('244', '1550'), (0, 0.003794377105438583)),\n",
       " (('743', '3915'), (2, 0.005882247956879059)),\n",
       " (('313', '3915'), (2, 0.005502181502086535)),\n",
       " (('18', '3915'), (2, 0.00590794786538895)),\n",
       " (('219', '3915'), (2, 0.005880620934521659)),\n",
       " (('433', '3915'), (2, 0.011484506444845556)),\n",
       " (('571', '3915'), (2, 0.005595667739882093)),\n",
       " (('647', '770'), (0, 0.02198040140337066)),\n",
       " (('219', '770'), (0, 0.012674509093803068)),\n",
       " (('579', '770'), (0, 0.015151541418284098)),\n",
       " (('96', '770'), (0, 0.015387855796800161)),\n",
       " (('831', '770'), (0, 0.011837771476017018)),\n",
       " (('328', '770'), (0, 0.02502593736436721)),\n",
       " (('57', '770'), (0, 0.014474220048427145)),\n",
       " (('60', '770'), (0, 0.007056951856148764)),\n",
       " (('218', '770'), (0, 0.01558733765305711)),\n",
       " (('308', '770'), (0, 0.011447662268729149)),\n",
       " (('464', '615'), (2, 0.01664333715392704)),\n",
       " (('975', '615'), (2, 0.007639551408263212)),\n",
       " (('11', '615'), (2, 0.0029437711274443797)),\n",
       " (('530', '615'), (2, 0.011247919588945807)),\n",
       " (('161', '615'), (2, 0.0032358695987412733)),\n",
       " (('227', '615'), (2, 0.00442273033106596)),\n",
       " (('223', '615'), (2, 0.012300900780233052)),\n",
       " (('196', '615'), (2, 0.007419040889507973)),\n",
       " (('3', '615'), (2, 0.01134316668468445)),\n",
       " (('197', '615'), (2, 0.012300900780233052)),\n",
       " (('34', '698'), (1, 0.01623087452525611)),\n",
       " (('44', '698'), (1, 0.0077162170190402035)),\n",
       " (('670', '698'), (1, 0.00433803945424021)),\n",
       " (('238', '698'), (1, 0.014457270271755817)),\n",
       " (('8', '698'), (1, 0.008614753840383361)),\n",
       " (('46', '698'), (1, 0.01751533548265199)),\n",
       " (('190', '698'), (1, 0.005505355694474986)),\n",
       " (('507', '698'), (1, 0.007116441964863127)),\n",
       " (('244', '698'), (1, 0.00809229683298171)),\n",
       " (('912', '698'), (1, 0.028259651445388365)),\n",
       " (('519', '2422'), (2, 0.0035509945009681524)),\n",
       " (('710', '2422'), (2, 0.0028931772385722985)),\n",
       " (('244', '698'), (0, 0.017264514430530883)),\n",
       " (('44', '698'), (0, 0.01621176590763942)),\n",
       " (('507', '698'), (0, 0.026383445172339925)),\n",
       " (('34', '698'), (0, 0.006739957525031509)),\n",
       " (('190', '698'), (0, 0.027801993299388122)),\n",
       " (('912', '698'), (0, 0.003463510106099202)),\n",
       " (('46', '698'), (0, 0.00414023135200661)),\n",
       " (('8', '698'), (0, 0.022688640390127406)),\n",
       " (('238', '698'), (0, 0.011887854081197776)),\n",
       " (('670', '698'), (0, 0.02148491199468037)),\n",
       " (('313', '598'), (2, 0.01117609524368215)),\n",
       " (('52', '598'), (2, 0.012739791873371065)),\n",
       " (('565', '598'), (2, 0.019817740914186803)),\n",
       " (('177', '598'), (2, 0.011245193350590883)),\n",
       " (('962', '598'), (2, 0.009121694627451537)),\n",
       " (('394', '598'), (2, 0.01638515947793667)),\n",
       " (('457', '598'), (2, 0.019662689119665)),\n",
       " (('142', '598'), (2, 0.003550839949126237)),\n",
       " (('231', '598'), (2, 0.013731601304937753)),\n",
       " (('218', '598'), (2, 0.011732372913636973)),\n",
       " (('350', '598'), (2, 0.002562273550440906)),\n",
       " (('121', '710'), (2, 0.021375844948450923)),\n",
       " (('705', '710'), (2, 0.0071645111867852255)),\n",
       " (('221', '710'), (2, 0.010814175895951003)),\n",
       " (('702', '710'), (2, 0.003238989725890391)),\n",
       " (('900', '710'), (2, 0.008743983558662063)),\n",
       " (('158', '710'), (2, 0.015356208401915705)),\n",
       " (('901', '710'), (2, 0.014204111567816305)),\n",
       " (('597', '710'), (2, 0.014244568050411462)),\n",
       " (('733', '710'), (2, 0.015385582495797905)),\n",
       " (('22', '710'), (2, 0.033624899131604484)),\n",
       " (('251', '710'), (2, 0.0036883770112524816)),\n",
       " (('313', '2055'), (2, 0.00279238226089405)),\n",
       " (('18', '2055'), (2, 0.0029983105448889483)),\n",
       " (('219', '2055'), (2, 0.002984442002571767)),\n",
       " (('981', '2055'), (2, 0.004093883209699283)),\n",
       " (('187', '1293'), (1, 0.0019853117365673635)),\n",
       " (('552', '1293'), (1, 0.003015331337173628)),\n",
       " (('196', '615'), (1, 0.010544970932348345)),\n",
       " (('197', '615'), (1, 0.002733616063748128)),\n",
       " (('464', '615'), (1, 0.0056058586516467305)),\n",
       " (('975', '615'), (1, 0.011261370590285882)),\n",
       " (('3', '615'), (1, 0.008821858200160307)),\n",
       " (('11', '615'), (1, 0.014365073213776206)),\n",
       " (('223', '615'), (1, 0.002733616063748128)),\n",
       " (('161', '615'), (1, 0.007827561170731183)),\n",
       " (('227', '615'), (1, 0.016694187192761518)),\n",
       " (('530', '615'), (1, 0.010650601570188668)),\n",
       " (('244', '698'), (2, 0.009102256538775133)),\n",
       " (('670', '698'), (2, 0.009382216101841466)),\n",
       " (('912', '698'), (2, 0.0017784276116731936)),\n",
       " (('507', '698'), (2, 0.00391179652361423)),\n",
       " (('34', '698'), (2, 0.00939780703454469)),\n",
       " (('238', '698'), (2, 0.007460655870436247)),\n",
       " (('190', '698'), (2, 0.004289508735580257)),\n",
       " (('44', '698'), (2, 0.010098402414540053)),\n",
       " (('46', '698'), (2, 0.010060340096017285)),\n",
       " (('8', '698'), (2, 0.0051191407941502615)),\n",
       " (('142', '598'), (0, 0.008190707135327081)),\n",
       " (('962', '598'), (0, 0.021456108609378858)),\n",
       " (('177', '598'), (0, 0.0008920186484088814)),\n",
       " (('457', '598'), (0, 0.012034370474056609)),\n",
       " (('350', '598'), (0, 0.0033490745579771337)),\n",
       " (('313', '598'), (0, 0.013115788379371301)),\n",
       " (('231', '598'), (0, 0.016475398629247018)),\n",
       " (('52', '598'), (0, 0.015265440555852744)),\n",
       " (('565', '598'), (0, 0.007094175568910141)),\n",
       " (('218', '598'), (0, 0.018091567058716233)),\n",
       " (('394', '598'), (0, 0.006656108915859572)),\n",
       " (('519', '2422'), (1, 0.0023345689247568193)),\n",
       " (('710', '2422'), (1, 0.001070444118542641)),\n",
       " (('222', '750'), (0, 0.013746877129246776)),\n",
       " (('701', '750'), (0, 0.008783912750966716)),\n",
       " (('244', '750'), (0, 0.014299739565566513)),\n",
       " (('250', '750'), (0, 0.015455422205463983)),\n",
       " (('373', '750'), (0, 0.020179845164062786)),\n",
       " (('102', '750'), (0, 0.0027422172696836148)),\n",
       " (('421', '750'), (0, 0.007286836491007166)),\n",
       " (('580', '750'), (0, 0.012850825132210315)),\n",
       " (('883', '750'), (0, 0.005189284241398638)),\n",
       " (('375', '750'), (0, 0.010072597850674991)),\n",
       " (('917', '750'), (0, 0.007625805773208225)),\n",
       " (('112', '681'), (0, 0.011517083139312507)),\n",
       " (('596', '681'), (0, 0.014353503411450195)),\n",
       " (('225', '681'), (0, 0.005883682803317664)),\n",
       " (('36', '681'), (0, 0.006834350183020688)),\n",
       " (('723', '681'), (0, 0.013950572847966032)),\n",
       " (('186', '681'), (0, 0.005446014874732847)),\n",
       " (('941', '681'), (0, 0.00959158085850438)),\n",
       " (('594', '681'), (0, 0.00670520166953038)),\n",
       " (('187', '681'), (0, 0.013749227467172357)),\n",
       " (('126', '681'), (0, 0.00670520166953038)),\n",
       " (('68', '1366'), (2, 0.0006353377036176139)),\n",
       " (('422', '1366'), (2, 0.0004421329266365259)),\n",
       " (('151', '1366'), (2, 0.0006742234528761245)),\n",
       " (('19', '1096'), (2, 0.0004029052226484867)),\n",
       " (('434', '1096'), (2, 0.0029018316234845397)),\n",
       " (('917', '750'), (1, 0.005788821219624897)),\n",
       " (('250', '750'), (1, 0.016098094603930704)),\n",
       " (('102', '750'), (1, 0.0144526252018481)),\n",
       " (('701', '750'), (1, 0.023707083362457273)),\n",
       " (('883', '750'), (1, 0.018044764095974903)),\n",
       " (('421', '750'), (1, 0.021890652241839424)),\n",
       " (('375', '750'), (1, 0.012137026174842342)),\n",
       " (('244', '750'), (1, 0.009305213515177397)),\n",
       " (('222', '750'), (1, 0.016273651927370344)),\n",
       " (('373', '750'), (1, 0.009465137365869786)),\n",
       " (('580', '750'), (1, 0.0008933045534103635)),\n",
       " (('594', '681'), (1, 0.004780450923375629)),\n",
       " (('941', '681'), (1, 0.008595452343288783)),\n",
       " (('596', '681'), (1, 0.01243910604747605)),\n",
       " (('187', '681'), (1, 0.00763596721968366)),\n",
       " (('225', '681'), (1, 0.009233786468040866)),\n",
       " (('36', '681'), (1, 0.0038027140342648787)),\n",
       " (('112', '681'), (1, 0.0005868175286896192)),\n",
       " (('126', '681'), (1, 0.004780450923375629)),\n",
       " (('186', '681'), (1, 0.007843471216801522)),\n",
       " (('723', '681'), (1, 0.002454289347894312)),\n",
       " (('831', '770'), (1, 0.017385283471069324)),\n",
       " (('57', '770'), (1, 0.005300677681252694)),\n",
       " (('60', '770'), (1, 0.02196397787344867)),\n",
       " (('647', '770'), (1, 0.0066883707091002316)),\n",
       " (('219', '770'), (1, 0.01010208501179889)),\n",
       " (('579', '770'), (1, 0.010942791551907917)),\n",
       " (('328', '770'), (1, 0.0016047716385886837)),\n",
       " (('308', '770'), (1, 0.010807258439447028)),\n",
       " (('218', '770'), (1, 0.007618029146655294)),\n",
       " (('96', '770'), (1, 0.016309484122585212)),\n",
       " (('313', '28'), (2, 0.0016413323815469758)),\n",
       " (('18', '28'), (2, 0.0017623748210190738)),\n",
       " (('621', '1550'), (1, 0.002460833412514993)),\n",
       " (('244', '1550'), (1, 0.0014953067375516646)),\n",
       " (('68', '1366'), (1, 0.007187567539656068)),\n",
       " (('151', '1366'), (1, 0.010054266216851637)),\n",
       " (('422', '1366'), (1, 0.007662116637244528)),\n",
       " (('434', '1096'), (1, 0.0005791178519995291)),\n",
       " (('19', '1096'), (1, 0.005705082696807955)),\n",
       " (('220', '737'), (1, 0.0063224224260993315)),\n",
       " (('55', '737'), (1, 0.008833337544120103)),\n",
       " (('54', '737'), (1, 0.013280740341377157)),\n",
       " (('770', '737'), (1, 0.011747207624987432)),\n",
       " (('202', '737'), (1, 0.012887422104712795)),\n",
       " (('25', '737'), (1, 0.010473962180428063)),\n",
       " (('199', '737'), (1, 0.002002662293214648)),\n",
       " (('428', '737'), (1, 0.006171290563309188)),\n",
       " (('246', '737'), (1, 0.00464666416566683)),\n",
       " (('724', '737'), (1, 0.01003126231770616)),\n",
       " (('2', '1768'), (2, 0.005395865748498999)),\n",
       " (('196', '1768'), (2, 0.002673783982957913)),\n",
       " (('466', '1412'), (1, 0.0036076631527923258)),\n",
       " (('698', '1412'), (1, 0.002082231889901248)),\n",
       " (('10', '1693'), (1, 0.00028935003366887727)),\n",
       " (('293', '1693'), (1, 5.433616689102501e-06)),\n",
       " (('25', '737'), (0, 0.00913245385120999)),\n",
       " (('54', '737'), (0, 0.015011584776373406)),\n",
       " (('770', '737'), (0, 0.008392740105417596)),\n",
       " (('55', '737'), (0, 0.013223602262599233)),\n",
       " (('220', '737'), (0, 0.01285989353407806)),\n",
       " (('724', '737'), (0, 0.009026618739849676)),\n",
       " (('246', '737'), (0, 0.011214918923664384)),\n",
       " (('199', '737'), (0, 0.016579880414366508)),\n",
       " (('428', '737'), (0, 0.01820724095527255)),\n",
       " (('202', '737'), (0, 0.01922579725069633)),\n",
       " (('751', '130'), (2, 0.007033010211412031)),\n",
       " (('202', '130'), (2, 0.0018526398205410282)),\n",
       " (('536', '130'), (2, 0.00256254116363459)),\n",
       " (('74', '130'), (2, 0.008811235344367363)),\n",
       " (('500', '130'), (2, 0.021371364716057877)),\n",
       " (('69', '130'), (2, 0.013302160971648372)),\n",
       " (('94', '130'), (2, 0.013432745571725668)),\n",
       " (('83', '130'), (2, 0.014151461559362446)),\n",
       " (('21', '130'), (2, 0.012250452257167784)),\n",
       " (('965', '130'), (2, 0.008842350737066879)),\n",
       " (('608', '1596'), (2, 0.0035614571098904497)),\n",
       " (('313', '1596'), (2, 0.006427622959074632)),\n",
       " (('18', '1596'), (2, 0.006901637346239754)),\n",
       " (('219', '1596'), (2, 0.0068697141521072026)),\n",
       " (('295', '1596'), (2, 0.009978399095642894)),\n",
       " (('313', '68'), (2, 0.008860146238629865)),\n",
       " (('39', '68'), (2, 0.008119036307743986)),\n",
       " (('23', '68'), (2, 0.006363597209182289)),\n",
       " (('534', '68'), (2, 0.013224593108626715)),\n",
       " (('192', '68'), (2, 0.012300569170590983)),\n",
       " (('541', '68'), (2, 0.011820669041707548)),\n",
       " (('343', '68'), (2, 0.00964600595916025)),\n",
       " (('803', '68'), (2, 0.010534018612103317)),\n",
       " (('104', '68'), (2, 0.009010686844724712)),\n",
       " (('59', '68'), (2, 0.011490865978899882)),\n",
       " (('204', '2767'), (2, 0.0025109102940659117)),\n",
       " (('658', '2767'), (2, 0.003385493602591472)),\n",
       " (('698', '1412'), (0, 0.0045064983444050325)),\n",
       " (('466', '1412'), (0, 0.0032052286634030934)),\n",
       " (('293', '1693'), (0, 0.0005661400382766659)),\n",
       " (('10', '1693'), (0, 0.002232816450220643)),\n",
       " (('142', '598'), (1, 0.03157194144383642)),\n",
       " (('313', '598'), (1, 0.017208948020542868)),\n",
       " (('394', '598'), (1, 0.018485730732285946)),\n",
       " (('177', '598'), (1, 0.03092624085248812)),\n",
       " (('231', '598'), (1, 0.010466376108115053)),\n",
       " (('457', '598'), (1, 0.008631051706904255)),\n",
       " (('565', '598'), (1, 0.014028070961328746)),\n",
       " (('962', '598'), (1, 0.01016713990748216)),\n",
       " (('218', '598'), (1, 0.010950474068105382)),\n",
       " (('350', '598'), (1, 0.03817811803694545)),\n",
       " (('52', '598'), (1, 0.012977195257791658)),\n",
       " (('519', '2422'), (0, 0.00151800615779449)),\n",
       " (('710', '2422'), (0, 0.0038194960341805125)),\n",
       " (('227', '615'), (0, 0.011125324623581751)),\n",
       " (('3', '615'), (0, 0.01200764449891298)),\n",
       " (('975', '615'), (0, 0.013960147924682668)),\n",
       " (('11', '615'), (0, 0.016421125925126873)),\n",
       " (('161', '615'), (0, 0.024941912815438394)),\n",
       " (('223', '615'), (0, 0.01896387021751339)),\n",
       " (('464', '615'), (0, 0.008837297619783007)),\n",
       " (('197', '615'), (0, 0.01896387021751339)),\n",
       " (('530', '615'), (0, 0.00964344673047967)),\n",
       " (('196', '615'), (0, 0.015254406424392073)),\n",
       " (('10', '1693'), (2, 0.004647153300394673)),\n",
       " (('293', '1693'), (2, 0.010129440682551673)),\n",
       " (('196', '1768'), (1, 0.002106737128846326)),\n",
       " (('2', '1768'), (1, 0.0011662008382840466)),\n",
       " (('54', '737'), (2, 0.005685341411845784)),\n",
       " (('770', '737'), (2, 0.014246305124804964)),\n",
       " (('428', '737'), (2, 0.011802835880562409)),\n",
       " (('202', '737'), (2, 0.0020232447139547994)),\n",
       " (('246', '737'), (2, 0.020722234843764707)),\n",
       " (('25', '737'), (2, 0.015176031140832928)),\n",
       " (('724', '737'), (2, 0.015859004274899995)),\n",
       " (('199', '737'), (2, 0.018858982819881367)),\n",
       " (('220', '737'), (2, 0.0169039783402251)),\n",
       " (('55', '737'), (2, 0.013264684046484785)),\n",
       " (('39', '68'), (0, 0.010490866178180625)),\n",
       " (('343', '68'), (0, 0.0035851487986486436)),\n",
       " (('104', '68'), (0, 0.0028070214495415522)),\n",
       " (('23', '68'), (0, 0.014439973814661352)),\n",
       " (('59', '68'), (0, 0.0032759135901368895)),\n",
       " (('313', '68'), (0, 0.010732326390750047)),\n",
       " (('803', '68'), (0, 0.015614889583707424)),\n",
       " (('541', '68'), (0, 0.008465905807396371)),\n",
       " (('534', '68'), (0, 0.013100272204840913)),\n",
       " (('192', '68'), (0, 0.012517555769349747)),\n",
       " (('500', '130'), (0, 0.010342353370075955)),\n",
       " (('94', '130'), (0, 0.009454129812326685)),\n",
       " (('536', '130'), (0, 0.015331089984045532)),\n",
       " (('74', '130'), (0, 0.009439853237555583)),\n",
       " (('21', '130'), (0, 0.013245897815219997)),\n",
       " (('69', '130'), (0, 0.008318009845415102)),\n",
       " (('965', '130'), (0, 0.009436113943988206)),\n",
       " (('751', '130'), (0, 0.0013211297233455504)),\n",
       " (('83', '130'), (0, 0.0024304760274247317)),\n",
       " (('202', '130'), (0, 0.016080533846592866)),\n",
       " (('466', '1412'), (2, 0.0005393656272055909)),\n",
       " (('698', '1412'), (2, 0.0007477719532231825)),\n",
       " (('608', '1596'), (0, 0.0032545526960745304)),\n",
       " (('219', '1596'), (0, 0.005992623559057957)),\n",
       " (('18', '1596'), (0, 0.005996611485817193)),\n",
       " (('295', '1596'), (0, 0.005449913576423976)),\n",
       " (('313', '1596'), (0, 0.005342887228367632)),\n",
       " (('658', '2767'), (0, 0.001122975830285306)),\n",
       " (('204', '2767'), (0, 0.002658828052354508)),\n",
       " (('592', '3680'), (0, 0.001057263471489023)),\n",
       " (('584', '3680'), (0, 0.003054319334112717)),\n",
       " (('313', '3680'), (0, 0.002555466318277151)),\n",
       " (('765', '3459'), (0, 0.0055165170400940135)),\n",
       " (('332', '3459'), (0, 0.008682414853392934)),\n",
       " (('313', '3753'), (2, 0.0056164026937821085)),\n",
       " (('383', '3753'), (2, 0.0005718797049442062)),\n",
       " (('18', '3753'), (2, 0.006030592464699994)),\n",
       " (('116', '3753'), (2, 0.009751346937413188)),\n",
       " (('219', '3753'), (2, 0.00600269824709237)),\n",
       " (('210', '3753'), (2, 0.005401749668456385)),\n",
       " (('661', '3753'), (2, 0.007819253999826442)),\n",
       " (('614', '781'), (0, 0.011240908867675214)),\n",
       " (('33', '781'), (0, 0.014459208252042503)),\n",
       " (('159', '781'), (0, 0.007093991742293974)),\n",
       " (('171', '781'), (0, 0.011301150765647057)),\n",
       " (('467', '781'), (0, 0.006630076833032222)),\n",
       " (('932', '781'), (0, 0.02527652987912839)),\n",
       " (('587', '781'), (0, 0.010235949628847985)),\n",
       " (('326', '781'), (0, 0.004903873068057672)),\n",
       " (('582', '781'), (0, 0.013781118769931325)),\n",
       " (('121', '781'), (0, 0.005791481375601216)),\n",
       " (('587', '781'), (1, 0.014903358906941437)),\n",
       " (('614', '781'), (1, 0.0062431271077412155)),\n",
       " (('932', '781'), (1, 0.0064739068986258575)),\n",
       " (('171', '781'), (1, 0.009662013207450472)),\n",
       " (('121', '781'), (1, 0.007881851262303638)),\n",
       " (('467', '781'), (1, 0.02176314104403204)),\n",
       " (('326', '781'), (1, 0.014613850968606571)),\n",
       " (('159', '781'), (1, 0.005937657541714045)),\n",
       " (('33', '781'), (1, 0.011037180276882797)),\n",
       " (('582', '781'), (1, 0.002272332064879355)),\n",
       " (('313', '3680'), (1, 0.002232921531956095)),\n",
       " (('584', '3680'), (1, 0.0013526059324995168)),\n",
       " (('592', '3680'), (1, 0.0002606640208547181)),\n",
       " (('481', '457'), (2, 0.020123410757264933)),\n",
       " (('224', '457'), (2, 0.020963840418115092)),\n",
       " (('388', '457'), (2, 0.009581642100054062)),\n",
       " (('256', '457'), (2, 0.015383298115163433)),\n",
       " (('215', '457'), (2, 0.019003428393950233)),\n",
       " (('894', '457'), (2, 0.007954334199758781)),\n",
       " (('76', '457'), (2, 0.015355582719218431)),\n",
       " (('219', '457'), (2, 0.012547083353160342)),\n",
       " (('241', '457'), (2, 0.0033010544400579656)),\n",
       " (('69', '457'), (2, 0.01566230503480483)),\n",
       " (('907', '457'), (2, 0.012780891434051094)),\n",
       " (('313', '2498'), (2, 0.0018144204416489951)),\n",
       " (('204', '2498'), (2, 0.001963700637600584)),\n",
       " (('51', '2498'), (2, 0.0011960589510458032)),\n",
       " (('788', '2498'), (2, 0.0005413239179589882)),\n",
       " (('765', '3459'), (1, 0.0016537414683239534)),\n",
       " (('332', '3459'), (1, 0.00042558914555089245)),\n",
       " (('102', '750'), (2, 0.022102307846758967)),\n",
       " (('244', '750'), (2, 0.013758884318917756)),\n",
       " (('373', '750'), (2, 0.006547379350884232)),\n",
       " (('375', '750'), (2, 0.01579714842963095)),\n",
       " (('222', '750'), (2, 0.006981315630215735)),\n",
       " (('421', '750'), (2, 0.008719738304153053)),\n",
       " (('883', '750'), (2, 0.015337223023165921)),\n",
       " (('701', '750'), (2, 0.004987920722026555)),\n",
       " (('250', '750'), (2, 0.005122950310459544)),\n",
       " (('917', '750'), (2, 0.02550430189574902)),\n",
       " (('580', '750'), (2, 0.024474417501770745)),\n",
       " (('112', '681'), (2, 0.02712908243059616)),\n",
       " (('126', '681'), (2, 0.02670056062723276)),\n",
       " (('594', '681'), (2, 0.02670056062723276)),\n",
       " (('596', '681'), (2, 0.0015766935551144948)),\n",
       " (('186', '681'), (2, 0.023047389105593688)),\n",
       " (('941', '681'), (2, 0.01555324704894787)),\n",
       " (('225', '681'), (2, 0.01989458215082319)),\n",
       " (('723', '681'), (2, 0.020160932507620535)),\n",
       " (('187', '681'), (2, 0.01112439702779525)),\n",
       " (('36', '681'), (2, 0.028270675222996623)),\n",
       " (('151', '1366'), (0, 0.002097523588092686)),\n",
       " (('422', '1366'), (0, 0.004261039462824)),\n",
       " (('68', '1366'), (0, 0.004100098886079594)),\n",
       " (('434', '1096'), (0, 0.002837856891988256)),\n",
       " (('19', '1096'), (0, 0.0013780224995981092)),\n",
       " (('313', '3753'), (1, 0.009366333642108458)),\n",
       " (('661', '3753'), (1, 0.008407606172754805)),\n",
       " (('210', '3753'), (1, 0.01063039290359528)),\n",
       " (('383', '3753'), (1, 0.012759857272045712)),\n",
       " (('116', '3753'), (1, 0.0017941832996808957)),\n",
       " (('219', '3753'), (1, 0.007903448198102417)),\n",
       " (('18', '3753'), (1, 0.0078625533152396)),\n",
       " (('894', '457'), (0, 0.020600870783801083)),\n",
       " (('215', '457'), (0, 0.020476382920617313)),\n",
       " (('388', '457'), (0, 0.024745098548137355)),\n",
       " (('219', '457'), (0, 0.016965771726070163)),\n",
       " (('481', '457'), (0, 0.011042218069008623)),\n",
       " (('69', '457'), (0, 0.011931971019751119)),\n",
       " (('224', '457'), (0, 0.016436250028859782)),\n",
       " (('907', '457'), (0, 0.005052960963680647)),\n",
       " (('76', '457'), (0, 0.006986831758298222)),\n",
       " (('241', '457'), (0, 0.030884263225126288)),\n",
       " (('256', '457'), (0, 0.0265597435300387)),\n",
       " (('788', '2498'), (0, 0.00822366036328822)),\n",
       " (('313', '2498'), (0, 0.0072109725560134804)),\n",
       " (('204', '2498'), (0, 0.009872478607242652)),\n",
       " (('51', '2498'), (0, 0.006567746006949909)),\n",
       " (('415', '532'), (2, 0.01029565663254429)),\n",
       " (('313', '532'), (2, 0.010123648170113365)),\n",
       " (('117', '532'), (2, 0.01653734756063918)),\n",
       " (('219', '532'), (2, 0.010819951566542169)),\n",
       " (('657', '532'), (2, 0.010365268899041848)),\n",
       " (('779', '532'), (2, 0.011021575485017766)),\n",
       " (('227', '532'), (2, 0.00552649511865602)),\n",
       " (('826', '532'), (2, 0.014346986932931594)),\n",
       " (('266', '532'), (2, 0.0053614448496689185)),\n",
       " (('40', '532'), (2, 0.014384980695299874)),\n",
       " (('7', '532'), (2, 0.015584304120297592)),\n",
       " (('570', '805'), (1, 0.0022123927664696383)),\n",
       " (('111', '805'), (1, 0.0012443238144360864)),\n",
       " (('131', '496'), (1, 0.014747347358061888)),\n",
       " (('780', '496'), (1, 0.025307521167931547)),\n",
       " (('117', '496'), (1, 0.008952852376822943)),\n",
       " (('585', '496'), (1, 0.010995558465285327)),\n",
       " (('62', '496'), (1, 0.0018153265472271257)),\n",
       " (('296', '496'), (1, 0.013070706183897877)),\n",
       " (('491', '496'), (1, 0.0033881083802859754)),\n",
       " (('159', '496'), (1, 0.005709919035699623)),\n",
       " (('368', '496'), (1, 0.0062256005800462415)),\n",
       " (('191', '496'), (1, 0.01215717679903202)),\n",
       " (('485', '1935'), (2, 0.0038246034499957032)),\n",
       " (('541', '1935'), (2, 0.003607396396129117)),\n",
       " (('183', '797'), (1, 0.002514761660529128)),\n",
       " (('248', '797'), (1, 0.0014139882427298268)),\n",
       " (('119', '564'), (2, 0.006484497951214825)),\n",
       " (('121', '564'), (2, 0.01825832611433622)),\n",
       " (('355', '564'), (2, 0.012987246495485378)),\n",
       " (('313', '564'), (2, 0.009273164271220964)),\n",
       " (('221', '564'), (2, 0.009237003292371669)),\n",
       " (('747', '564'), (2, 0.004068362146829814)),\n",
       " (('933', '564'), (2, 0.005177981765148575)),\n",
       " (('766', '564'), (2, 0.006513381312135915)),\n",
       " (('161', '564'), (2, 0.0037037464860456785)),\n",
       " (('159', '564'), (2, 0.018980018186729144)),\n",
       " (('296', '496'), (0, 0.010334197008649862)),\n",
       " (('131', '496'), (0, 0.013484356831170047)),\n",
       " (('585', '496'), (0, 0.0018976491073921433)),\n",
       " (('191', '496'), (0, 0.0034311086449982557)),\n",
       " (('780', '496'), (0, 0.0024153163798027633)),\n",
       " (('159', '496'), (0, 0.006320373239293534)),\n",
       " (('368', '496'), (0, 0.022520057653546987)),\n",
       " (('62', '496'), (0, 0.00927733232624203)),\n",
       " (('491', '496'), (0, 0.008314381348287183)),\n",
       " (('117', '496'), (0, 0.0066015500464404525)),\n",
       " (('916', '3390'), (2, 0.004743823281896015)),\n",
       " (('534', '3390'), (2, 0.005055694239074886)),\n",
       " (('111', '805'), (0, 0.0027641862240835088)),\n",
       " (('570', '805'), (0, 0.0004671850983877613)),\n",
       " (('18', '1'), (2, 0.0012600594316268489)),\n",
       " (('248', '797'), (0, 0.000210269260274731)),\n",
       " (('183', '797'), (0, 0.0004940442099258302)),\n",
       " (('343', '68'), (1, 0.023230059420580623)),\n",
       " (('313', '68'), (1, 0.015421199708179682)),\n",
       " (('39', '68'), (1, 0.016686876134566837)),\n",
       " (('23', '68'), (1, 0.01409646784078389)),\n",
       " (('534', '68'), (1, 0.006798251342762155)),\n",
       " (('541', '68'), (1, 0.014358935728314207)),\n",
       " (('803', '68'), (1, 0.007201418632377625)),\n",
       " (('104', '68'), (1, 0.02502103254413846)),\n",
       " (('59', '68'), (1, 0.021204596565022042)),\n",
       " (('192', '68'), (1, 0.008724465953231522)),\n",
       " (('94', '130'), (1, 0.013156773268231677)),\n",
       " (('965', '130'), (1, 0.018661481921879976)),\n",
       " (('202', '130'), (1, 0.018401155012041377)),\n",
       " (('83', '130'), (1, 0.02139650303812091)),\n",
       " (('751', '130'), (1, 0.03133358635818563)),\n",
       " (('21', '130'), (1, 0.009656956201023512)),\n",
       " (('69', '130'), (1, 0.014784353481822606)),\n",
       " (('500', '130'), (1, 0.002526757660402614)),\n",
       " (('536', '130'), (1, 0.01852424136269702)),\n",
       " (('74', '130'), (1, 0.01869379307111738)),\n",
       " (('313', '1596'), (1, 0.005794193923749988)),\n",
       " (('295', '1596'), (1, 0.0032942557970039124)),\n",
       " (('219', '1596'), (1, 0.004889224885203758)),\n",
       " (('18', '1596'), (1, 0.004863926525050227)),\n",
       " (('608', '1596'), (1, 0.009679758822992601)),\n",
       " (('204', '2767'), (1, 0.0010753918698088632)),\n",
       " (('658', '2767'), (1, 0.001764240538336497)),\n",
       " (('196', '1768'), (0, 0.0019467685074383658)),\n",
       " (('2', '1768'), (0, 0.0013919525990732503))]"
      ]
     },
     "execution_count": 239,
     "metadata": {},
     "output_type": "execute_result"
    }
   ],
   "source": [
    "PzuPsz.collect()[0:10]"
   ]
  },
  {
   "cell_type": "markdown",
   "metadata": {},
   "source": [
    "For each (u,s), compute ∑ p(s | z)* p(z | u) (summing over z) (this corresponds to p(s|u))"
   ]
  },
  {
   "cell_type": "code",
   "execution_count": 240,
   "metadata": {},
   "outputs": [],
   "source": [
    "SumPzuPsz = PzuPsz.map(lambda x : (x[0], x[1][1])).reduceByKey(lambda x,y : x+y)"
   ]
  },
  {
   "cell_type": "code",
   "execution_count": 241,
   "metadata": {},
   "outputs": [
    {
     "data": {
      "text/plain": [
       "[(('296', '496'), 0.030686521647097387),\n",
       " (('775', '1241'), 0.007127781535276998),\n",
       " (('571', '3915'), 0.019366064417274828),\n",
       " (('244', '1550'), 0.007851704704439282),\n",
       " (('126', '681'), 0.038186213220138765),\n",
       " (('74', '130'), 0.03694488165304033),\n",
       " (('485', '1935'), 0.007644547890965291),\n",
       " (('313', '3252'), 0.021040793474339257),\n",
       " (('663', '517'), 0.036117372141881626),\n",
       " (('170', '82'), 0.0439722326771784)]"
      ]
     },
     "execution_count": 241,
     "metadata": {},
     "output_type": "execute_result"
    }
   ],
   "source": [
    "SumPzuPsz.collect()[0:10]"
   ]
  },
  {
   "cell_type": "markdown",
   "metadata": {},
   "source": [
    "For each (u,s,z), compute p(s|z)p(z|u) / ∑p(s|z)p(z|u) (this corresponds to the new q( z | (u,s) )"
   ]
  },
  {
   "cell_type": "code",
   "execution_count": 242,
   "metadata": {},
   "outputs": [],
   "source": [
    "q1 = PzuPsz.join(SumPzuPsz)"
   ]
  },
  {
   "cell_type": "code",
   "execution_count": 243,
   "metadata": {},
   "outputs": [
    {
     "data": {
      "text/plain": [
       "[(('296', '496'), ((2, 0.007281618454549649), 0.030686521647097387)),\n",
       " (('296', '496'), ((1, 0.013070706183897877), 0.030686521647097387)),\n",
       " (('296', '496'), ((0, 0.010334197008649862), 0.030686521647097387)),\n",
       " (('485', '1935'), ((1, 0.0005287743149323337), 0.007644547890965291)),\n",
       " (('485', '1935'), ((0, 0.003291170126037254), 0.007644547890965291)),\n",
       " (('485', '1935'), ((2, 0.0038246034499957032), 0.007644547890965291)),\n",
       " (('313', '3252'), ((1, 0.004589641296092026), 0.021040793474339257)),\n",
       " (('313', '3252'), ((0, 0.008070044426856389), 0.021040793474339257)),\n",
       " (('313', '3252'), ((2, 0.00838110775139084), 0.021040793474339257)),\n",
       " (('170', '82'), ((1, 0.030479099910464647), 0.0439722326771784))]"
      ]
     },
     "execution_count": 243,
     "metadata": {},
     "output_type": "execute_result"
    }
   ],
   "source": [
    "q1.collect()[0:10]"
   ]
  },
  {
   "cell_type": "code",
   "execution_count": 244,
   "metadata": {},
   "outputs": [
    {
     "data": {
      "text/plain": [
       "882"
      ]
     },
     "execution_count": 244,
     "metadata": {},
     "output_type": "execute_result"
    }
   ],
   "source": [
    "q1.count()"
   ]
  },
  {
   "cell_type": "code",
   "execution_count": 245,
   "metadata": {},
   "outputs": [],
   "source": [
    "q1 = q1.map(lambda x : (x[0], x[1][0][0], x[1][0][1]/x[1][1]))"
   ]
  },
  {
   "cell_type": "code",
   "execution_count": 246,
   "metadata": {},
   "outputs": [
    {
     "data": {
      "text/plain": [
       "[(('296', '496'), 2, 0.23729044752253345),\n",
       " (('296', '496'), 1, 0.42594290529940937),\n",
       " (('296', '496'), 0, 0.33676664717805727),\n",
       " (('485', '1935'), 1, 0.06917012261212538),\n",
       " (('485', '1935'), 0, 0.4305251498165017),\n",
       " (('485', '1935'), 2, 0.5003047275713729),\n",
       " (('313', '3252'), 1, 0.2181306185857211),\n",
       " (('313', '3252'), 0, 0.3835427802044814),\n",
       " (('313', '3252'), 2, 0.3983266012097974),\n",
       " (('170', '82'), 1, 0.6931442425092804)]"
      ]
     },
     "execution_count": 246,
     "metadata": {},
     "output_type": "execute_result"
    }
   ],
   "source": [
    "q1.collect()[0:10]"
   ]
  },
  {
   "cell_type": "code",
   "execution_count": 247,
   "metadata": {},
   "outputs": [
    {
     "data": {
      "text/plain": [
       "882"
      ]
     },
     "execution_count": 247,
     "metadata": {},
     "output_type": "execute_result"
    }
   ],
   "source": [
    "q1.count()"
   ]
  },
  {
   "cell_type": "markdown",
   "metadata": {},
   "source": [
    "Update LogLik = sum( log( ∑ p(s | z) * p(z | u))) = sum( log (p(s | u))"
   ]
  },
  {
   "cell_type": "code",
   "execution_count": 248,
   "metadata": {},
   "outputs": [
    {
     "data": {
      "text/plain": [
       "8.464520735594743"
      ]
     },
     "execution_count": 248,
     "metadata": {},
     "output_type": "execute_result"
    }
   ],
   "source": [
    "LogLik = SumPzuPsz.map(lambda x : x[1]).sum()\n",
    "LogLik"
   ]
  },
  {
   "cell_type": "markdown",
   "metadata": {},
   "source": [
    "End of the iteration step "
   ]
  }
 ],
 "metadata": {
  "kernelspec": {
   "display_name": "Python 3",
   "language": "python",
   "name": "python3"
  },
  "language_info": {
   "codemirror_mode": {
    "name": "ipython",
    "version": 3
   },
   "file_extension": ".py",
   "mimetype": "text/x-python",
   "name": "python",
   "nbconvert_exporter": "python",
   "pygments_lexer": "ipython3",
   "version": "3.6.6"
  }
 },
 "nbformat": 4,
 "nbformat_minor": 2
}
